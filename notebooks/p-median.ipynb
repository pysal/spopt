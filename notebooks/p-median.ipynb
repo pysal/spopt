{
 "cells": [
  {
   "cell_type": "markdown",
   "metadata": {
    "jupyter": {
     "outputs_hidden": true
    }
   },
   "source": [
    "# The P-Median Problem\n",
    "\n",
    "*Authors:* [Germano Barcelos](https://github.com/gegen07), [James Gaboardi](https://github.com/jGaboardi), [Levi J. Wolf](https://github.com/ljwolf), [Qunshan Zhao](https://github.com/qszhao)\n",
    "\n",
    "Hakimi (1965) proposed this model thinking about locating telephone switching centers. The objective was to minimize the total length of wire serving all customers while locating $p$ telephone switching centers, assuming that each customer would be connected to the closest switching center. Here the objective is to _locate a fixed number of facilities such that the resulting sum of travel distances is minimized_.\n",
    "\n",
    "**P-Median can be written as:**\n",
    "\n",
    "$\\begin{array} \\displaystyle \\textbf{Minimize} & \\displaystyle \\sum_{i \\in I}\\sum_{j \\in J}{a_i d_{ij} X_{ij}} &&& (1) \\\\\n",
    "\\displaystyle \\textbf{Subject to:} & \\displaystyle \\sum_{j \\in J}{X_{ij} = 1} & \\forall i \\in I && (2) \\\\\n",
    "            & \\displaystyle \\sum_{j \\in J}{Y_{j} = p} &&& (3) \\\\\n",
    "            & X_{ij} \\leq Y_{j} & \\forall i \\in I & \\forall j \\in J & (4) \\\\\n",
    "            & X_{ij} \\in \\{0,1\\} & \\forall i \\in I & \\forall j \\in J & (5) \\\\\n",
    "            & Y_{j} \\in \\{0,1\\} & \\forall j \\in J && (6) \\\\ \\end{array}$\n",
    "\n",
    "$\\begin{array} \\displaystyle \\textbf{Where:}\\\\ & & \\displaystyle i & \\small = & \\textrm{index referencing nodes of the network as demand} \\\\\n",
    "& & j & \\small = & \\textrm{index referencing nodes of the network as potential facility sites} \\\\\n",
    "& & d_{ij} & \\small = & \\textrm{shortest distance or travel time between nodes } i \\textrm{ and } j \\\\\n",
    "& & p & \\small = & \\textrm{number of facilities to be located} \\\\\n",
    "& & a_i & \\small = & \\textrm{service load or population demand at } i \\\\\n",
    "& & X_{ij} & \\small = & \\begin{cases}\n",
    "              1, \\textrm{if demand } i \\textrm{ is assigned to facility } j \\\\\n",
    "              0, \\textrm{otherwise}\n",
    "           \\end{cases} \\\\\n",
    "& & Y_{j} & \\small = & \\begin{cases}\n",
    "              1, \\textrm{if node } j \\textrm{ has been selected for a facility} \\\\\n",
    "              0, \\textrm{otherwise} \\\\\n",
    "           \\end{cases} \\\\ \n",
    "\\end{array}$\n",
    "\n",
    "_The formulation above is adapted from Church and Murray (2018)_\n",
    "\n",
    "This tutorial generates synthetic demand (clients) and facility sites near a 10x10 lattice representing a gridded urban core.\n",
    "\n",
    "* `PMedian.from_cost_matrix()` with network distance as the metric\n",
    "* `PMedian.from_geodataframe()` with euclidean distance as the metric\n",
    "* `PMedian.from_geodataframe()` with predefined facility locations and euclidean distance as the metric"
   ]
  },
  {
   "cell_type": "code",
   "execution_count": null,
   "metadata": {
    "ExecuteTime": {
     "end_time": "2023-01-10T18:24:08.117170Z",
     "start_time": "2023-01-10T18:24:08.084712Z"
    }
   },
   "outputs": [],
   "source": [
    "%config InlineBackend.figure_format = \"retina\"\n",
    "%load_ext watermark\n",
    "%watermark"
   ]
  },
  {
   "cell_type": "code",
   "execution_count": null,
   "metadata": {
    "ExecuteTime": {
     "end_time": "2023-01-10T18:24:10.485373Z",
     "start_time": "2023-01-10T18:24:08.120946Z"
    }
   },
   "outputs": [],
   "source": [
    "import geopandas\n",
    "import matplotlib.pyplot as plt\n",
    "from matplotlib.patches import Patch\n",
    "import matplotlib.lines as mlines\n",
    "import numpy\n",
    "import pulp\n",
    "import shapely\n",
    "import spopt\n",
    "from spopt.locate import PMedian, simulated_geo_points\n",
    "\n",
    "import warnings\n",
    "with warnings.catch_warnings():\n",
    "    warnings.simplefilter(\"ignore\")\n",
    "    # ignore deprecation warning - GH pysal/spaghetti#649\n",
    "    import spaghetti\n",
    "\n",
    "%watermark -w\n",
    "%watermark -iv"
   ]
  },
  {
   "cell_type": "markdown",
   "metadata": {},
   "source": [
    "Since the model needs a cost matrix (distance, time, etc.) we should define some variables. First we will assign some the number of clients and facility locations, then the maximum service radius, followed by random seeds in order to reproduce the results. Finally, the solver, assigned below as `pulp.COIN_CMD`, is an interface to optimization solver developed by [COIN-OR](https://github.com/coin-or/Cbc). If you want to use another optimization interface, such as Gurobi or CPLEX, see this [guide](https://coin-or.github.io/pulp/guides/how_to_configure_solvers.html) that explains how to achieve this."
   ]
  },
  {
   "cell_type": "code",
   "execution_count": null,
   "metadata": {
    "ExecuteTime": {
     "end_time": "2023-01-10T18:24:10.493127Z",
     "start_time": "2023-01-10T18:24:10.489504Z"
    }
   },
   "outputs": [],
   "source": [
    "# quantity demand points\n",
    "CLIENT_COUNT = 100\n",
    "\n",
    "# quantity supply points\n",
    "FACILITY_COUNT = 10\n",
    "\n",
    "# number of candidate facilities in optimal solution\n",
    "P_FACILITIES = 3\n",
    "\n",
    "# random seeds for reproducibility\n",
    "CLIENT_SEED = 5\n",
    "FACILITY_SEED = 6\n",
    "\n",
    "# set the solver\n",
    "solver = pulp.COIN_CMD(msg=False, warmStart=True)"
   ]
  },
  {
   "cell_type": "markdown",
   "metadata": {},
   "source": [
    "## Lattice 10x10\n",
    "\n",
    "Create a 10x10 lattice with 9 interior lines, both vertical and horizontal."
   ]
  },
  {
   "cell_type": "code",
   "execution_count": null,
   "metadata": {
    "ExecuteTime": {
     "end_time": "2023-01-10T18:24:10.532505Z",
     "start_time": "2023-01-10T18:24:10.496282Z"
    }
   },
   "outputs": [],
   "source": [
    "with warnings.catch_warnings():\n",
    "    warnings.simplefilter(\"ignore\")\n",
    "    # ignore deprecation warning - GH pysal/libpysal#468\n",
    "    lattice = spaghetti.regular_lattice((0, 0, 10, 10), 9, exterior=True)\n",
    "ntw = spaghetti.Network(in_data=lattice)"
   ]
  },
  {
   "cell_type": "markdown",
   "metadata": {},
   "source": [
    "Transform the `spaghetti` instance into a geodataframe."
   ]
  },
  {
   "cell_type": "code",
   "execution_count": null,
   "metadata": {
    "ExecuteTime": {
     "end_time": "2023-01-10T18:24:10.651013Z",
     "start_time": "2023-01-10T18:24:10.535185Z"
    }
   },
   "outputs": [],
   "source": [
    "streets = spaghetti.element_as_gdf(ntw, arcs=True)"
   ]
  },
  {
   "cell_type": "code",
   "execution_count": null,
   "metadata": {
    "ExecuteTime": {
     "end_time": "2023-01-10T18:24:10.680319Z",
     "start_time": "2023-01-10T18:24:10.653854Z"
    }
   },
   "outputs": [],
   "source": [
    "streets_buffered = geopandas.GeoDataFrame(\n",
    "    geopandas.GeoSeries(streets[\"geometry\"].buffer(0.5).unary_union),\n",
    "    crs=streets.crs,\n",
    "    columns=[\"geometry\"],\n",
    ")"
   ]
  },
  {
   "cell_type": "markdown",
   "metadata": {},
   "source": [
    "Plotting the network created by `spaghetti` we can verify that it mimics a district with quarters and streets."
   ]
  },
  {
   "cell_type": "code",
   "execution_count": null,
   "metadata": {
    "ExecuteTime": {
     "end_time": "2023-01-10T18:24:10.837523Z",
     "start_time": "2023-01-10T18:24:10.683808Z"
    }
   },
   "outputs": [],
   "source": [
    "streets.plot();"
   ]
  },
  {
   "cell_type": "markdown",
   "metadata": {},
   "source": [
    "## Simulate points in a network\n",
    "\n",
    "The `simulated_geo_points` function simulates points near a network. In this case, it uses the 10x10 lattice network created using the `spaghetti` package. Below we use the function defined above and simulate the points near the lattice edges."
   ]
  },
  {
   "cell_type": "code",
   "execution_count": null,
   "metadata": {
    "ExecuteTime": {
     "end_time": "2023-01-10T18:24:10.856866Z",
     "start_time": "2023-01-10T18:24:10.840350Z"
    }
   },
   "outputs": [],
   "source": [
    "client_points = simulated_geo_points(\n",
    "    streets_buffered, needed=CLIENT_COUNT, seed=CLIENT_SEED\n",
    ")\n",
    "facility_points = simulated_geo_points(\n",
    "    streets_buffered, needed=FACILITY_COUNT, seed=FACILITY_SEED\n",
    ")"
   ]
  },
  {
   "cell_type": "markdown",
   "metadata": {},
   "source": [
    "Plotting the 100 client and 10 facility points we can see that the function generates dummy points to an area of 10x10, which is the area created by our lattice created on previous cells."
   ]
  },
  {
   "cell_type": "code",
   "execution_count": null,
   "metadata": {
    "ExecuteTime": {
     "end_time": "2023-01-10T18:24:11.377900Z",
     "start_time": "2023-01-10T18:24:10.859377Z"
    }
   },
   "outputs": [],
   "source": [
    "fig, ax = plt.subplots(figsize=(6, 6))\n",
    "streets.plot(ax=ax, alpha=0.8, zorder=1, label=\"streets\")\n",
    "facility_points.plot(\n",
    "    ax=ax, color=\"red\", zorder=2, label=f\"facility candidate sites ($n$={FACILITY_COUNT})\"\n",
    ")\n",
    "client_points.plot(ax=ax, color=\"black\", label=f\"clients sites ($n$={CLIENT_COUNT})\")\n",
    "plt.legend(loc=\"upper left\", bbox_to_anchor=(1.05, 1));"
   ]
  },
  {
   "cell_type": "markdown",
   "metadata": {},
   "source": [
    "For each client point the model supposes that there is a weight. So, we assign some random integers using `numpy` to simulate these weights. We will simulate weights in a range from a minimum of 1 and a maximum of 12."
   ]
  },
  {
   "cell_type": "code",
   "execution_count": null,
   "metadata": {
    "ExecuteTime": {
     "end_time": "2023-01-10T18:24:11.390148Z",
     "start_time": "2023-01-10T18:24:11.384825Z"
    }
   },
   "outputs": [],
   "source": [
    "numpy.random.seed(0)\n",
    "ai = numpy.random.randint(1, 12, CLIENT_COUNT)\n",
    "ai"
   ]
  },
  {
   "cell_type": "markdown",
   "metadata": {},
   "source": [
    "What's total the value of \"weighted\" clients?"
   ]
  },
  {
   "cell_type": "code",
   "execution_count": null,
   "metadata": {
    "ExecuteTime": {
     "end_time": "2023-01-10T18:24:11.399751Z",
     "start_time": "2023-01-10T18:24:11.393424Z"
    }
   },
   "outputs": [],
   "source": [
    "client_points[\"weights\"] = ai\n",
    "client_points[\"weights\"].sum()"
   ]
  },
  {
   "cell_type": "code",
   "execution_count": null,
   "metadata": {
    "ExecuteTime": {
     "end_time": "2023-01-10T18:24:11.697287Z",
     "start_time": "2023-01-10T18:24:11.401700Z"
    }
   },
   "outputs": [],
   "source": [
    "fig, ax = plt.subplots(figsize=(6, 6))\n",
    "streets.plot(ax=ax, alpha=0.8, zorder=1, label=\"streets\")\n",
    "client_points.plot(\n",
    "    ax=ax,\n",
    "    color=\"black\",\n",
    "    label=f\"clients sized weight\\n\\t$\\sum$={client_points['weights'].sum()}\",\n",
    "    markersize=ai*2\n",
    ")\n",
    "plt.legend(loc=\"upper left\", bbox_to_anchor=(1.05, 1));"
   ]
  },
  {
   "cell_type": "markdown",
   "metadata": {},
   "source": [
    "## Assign simulated points network locations\n",
    "\n",
    "The simulated client and facility points do not adhere to network space. Calculating distances between them without restricting movement to the network results in a euclidean distances,'as the crow flies.' While this is acceptable for some applications, for others it is more realistic to consider network traversal (e.g. Does a mail carrier follow roads to deliver letters or fly from mailbox to mailbox?).\n",
    "\n",
    "In our first example we will consider distance along the 10x10 lattice network created above. Therefore, we must first snap the observation points to the network prior to calculating a cost matrix."
   ]
  },
  {
   "cell_type": "code",
   "execution_count": null,
   "metadata": {
    "ExecuteTime": {
     "end_time": "2023-01-10T18:24:11.891805Z",
     "start_time": "2023-01-10T18:24:11.700066Z"
    }
   },
   "outputs": [],
   "source": [
    "with warnings.catch_warnings():\n",
    "    warnings.simplefilter(\"ignore\")\n",
    "    # ignore deprecation warning - GH pysal/libpysal#468\n",
    "    ntw.snapobservations(client_points, \"clients\", attribute=True)\n",
    "clients_snapped = spaghetti.element_as_gdf(ntw, pp_name=\"clients\", snapped=True)\n",
    "clients_snapped.drop(columns=[\"id\", \"comp_label\"], inplace=True)\n",
    "\n",
    "with warnings.catch_warnings():\n",
    "    warnings.simplefilter(\"ignore\")\n",
    "    # ignore deprecation warning - GH pysal/libpysal#468\n",
    "    ntw.snapobservations(facility_points, \"facilities\", attribute=True)\n",
    "facilities_snapped = spaghetti.element_as_gdf(ntw, pp_name=\"facilities\", snapped=True)\n",
    "facilities_snapped.drop(columns=[\"id\", \"comp_label\"], inplace=True)"
   ]
  },
  {
   "cell_type": "markdown",
   "metadata": {},
   "source": [
    "Now the plot seems more organized as the points occupy network space. The network is plotted below with the network locations of the facility points and clients points."
   ]
  },
  {
   "cell_type": "code",
   "execution_count": null,
   "metadata": {
    "ExecuteTime": {
     "end_time": "2023-01-10T18:24:12.237165Z",
     "start_time": "2023-01-10T18:24:11.895616Z"
    }
   },
   "outputs": [],
   "source": [
    "fig, ax = plt.subplots(figsize=(6, 6))\n",
    "streets.plot(ax=ax, alpha=0.8, zorder=1, label=\"streets\")\n",
    "facilities_snapped.plot(\n",
    "    ax=ax, color=\"red\", zorder=2, label=f\"facility candidate sites ($n$={FACILITY_COUNT})\"\n",
    ")\n",
    "clients_snapped.plot(ax=ax, color=\"black\", label=f\"clients sites ($n$={CLIENT_COUNT})\")\n",
    "plt.legend(loc=\"upper left\", bbox_to_anchor=(1.05, 1));"
   ]
  },
  {
   "cell_type": "markdown",
   "metadata": {},
   "source": [
    "## Calculating the (network distance) cost matrix\n",
    "Calculate the network distance between clients and facilities."
   ]
  },
  {
   "cell_type": "code",
   "execution_count": null,
   "metadata": {
    "ExecuteTime": {
     "end_time": "2023-01-10T18:24:12.305988Z",
     "start_time": "2023-01-10T18:24:12.239981Z"
    }
   },
   "outputs": [],
   "source": [
    "cost_matrix = ntw.allneighbordistances(\n",
    "    sourcepattern=ntw.pointpatterns[\"clients\"],\n",
    "    destpattern=ntw.pointpatterns[\"facilities\"],\n",
    ")\n",
    "cost_matrix.shape"
   ]
  },
  {
   "cell_type": "markdown",
   "metadata": {},
   "source": [
    "The expected result here is a network distance between clients and facilities points, in our case a 2D 100x10 array."
   ]
  },
  {
   "cell_type": "code",
   "execution_count": null,
   "metadata": {
    "ExecuteTime": {
     "end_time": "2023-01-10T18:24:12.313428Z",
     "start_time": "2023-01-10T18:24:12.307697Z"
    }
   },
   "outputs": [],
   "source": [
    "cost_matrix[:5,:]"
   ]
  },
  {
   "cell_type": "code",
   "execution_count": null,
   "metadata": {
    "ExecuteTime": {
     "end_time": "2023-01-10T18:24:12.320550Z",
     "start_time": "2023-01-10T18:24:12.315730Z"
    }
   },
   "outputs": [],
   "source": [
    "cost_matrix[-5:,:]"
   ]
  },
  {
   "cell_type": "markdown",
   "metadata": {},
   "source": [
    "With ``PMedian.from_cost_matrix`` we model the $p$-median problem to minimize the total *weighted* cost between clients and $p$ facilities, 3 in our case, while ensuring that each client is assigned to one, and only one, facility. We use the network distance matrix calculated above (in generic 'distance units') to model cost."
   ]
  },
  {
   "cell_type": "code",
   "execution_count": null,
   "metadata": {
    "ExecuteTime": {
     "end_time": "2023-01-10T18:24:12.359597Z",
     "start_time": "2023-01-10T18:24:12.322414Z"
    }
   },
   "outputs": [],
   "source": [
    "pmedian_from_cm = PMedian.from_cost_matrix(\n",
    "    cost_matrix,\n",
    "    ai,\n",
    "    p_facilities=P_FACILITIES,\n",
    "    name=\"p-median-network-distance\"\n",
    ")"
   ]
  },
  {
   "cell_type": "markdown",
   "metadata": {},
   "source": [
    "The expected result is a solved instance of `PMedian`."
   ]
  },
  {
   "cell_type": "code",
   "execution_count": null,
   "metadata": {
    "ExecuteTime": {
     "end_time": "2023-01-10T18:24:12.453831Z",
     "start_time": "2023-01-10T18:24:12.361767Z"
    }
   },
   "outputs": [],
   "source": [
    "pmedian_from_cm = pmedian_from_cm.solve(solver)\n",
    "pmedian_from_cm"
   ]
  },
  {
   "cell_type": "markdown",
   "metadata": {},
   "source": [
    "What's total and mean minimized weighted cost?"
   ]
  },
  {
   "cell_type": "code",
   "execution_count": null,
   "metadata": {
    "ExecuteTime": {
     "end_time": "2023-01-10T18:24:12.462197Z",
     "start_time": "2023-01-10T18:24:12.457430Z"
    }
   },
   "outputs": [],
   "source": [
    "pmp_obj = round(pmedian_from_cm.problem.objective.value(), 3)\n",
    "pmp_mean = round(pmedian_from_cm.mean_dist, 3)\n",
    "print(\n",
    "    f\"A total minimized weighted distance of {pmp_obj} units is \"\n",
    "    f\"observed, with a mean distance of {pmp_mean} per individual client.\"\n",
    ")"
   ]
  },
  {
   "cell_type": "markdown",
   "metadata": {},
   "source": [
    "Define the decision variable names used for mapping later."
   ]
  },
  {
   "cell_type": "code",
   "execution_count": null,
   "metadata": {
    "ExecuteTime": {
     "end_time": "2023-01-10T18:24:12.476606Z",
     "start_time": "2023-01-10T18:24:12.464200Z"
    }
   },
   "outputs": [],
   "source": [
    "facility_points[\"dv\"] = pmedian_from_cm.fac_vars\n",
    "facility_points[\"dv\"] = facility_points[\"dv\"].map(lambda x: x.name.replace(\"_\", \"\"))\n",
    "facilities_snapped[\"dv\"] = facility_points[\"dv\"]\n",
    "facility_points"
   ]
  },
  {
   "cell_type": "markdown",
   "metadata": {},
   "source": [
    "## Calculating euclidean distance from a `GeoDataFrame`\n",
    "\n",
    "With ``PMedian.from_cost_matrix`` we model the $p$-median problem to minimize the total *weighted* cost between clients and $p$ facilities, 3 in our case, while ensuring that each client is assigned to one, and only one, facility. Here we use geodataframes to calculate a euclidean distance cost matrix.\n",
    "\n",
    "Next we will solve the $p$-median problem considering all 10 candidate locations for potential selection."
   ]
  },
  {
   "cell_type": "code",
   "execution_count": null,
   "metadata": {
    "ExecuteTime": {
     "end_time": "2023-01-10T18:24:12.514148Z",
     "start_time": "2023-01-10T18:24:12.478727Z"
    }
   },
   "outputs": [],
   "source": [
    "distance_metric = \"euclidean\"\n",
    "clients_snapped[\"weights\"] = client_points[\"weights\"]\n",
    "pmedian_from_gdf = PMedian.from_geodataframe(\n",
    "    clients_snapped,\n",
    "    facilities_snapped,\n",
    "    \"geometry\",\n",
    "    \"geometry\",\n",
    "    \"weights\",\n",
    "    p_facilities=P_FACILITIES,\n",
    "    distance_metric=distance_metric,\n",
    "    name=f\"p-median-{distance_metric}-distance\"\n",
    ")"
   ]
  },
  {
   "cell_type": "code",
   "execution_count": null,
   "metadata": {
    "ExecuteTime": {
     "end_time": "2023-01-10T18:24:12.605501Z",
     "start_time": "2023-01-10T18:24:12.516596Z"
    }
   },
   "outputs": [],
   "source": [
    "pmedian_from_gdf = pmedian_from_gdf.solve(solver)\n",
    "pmp_obj = round(pmedian_from_gdf.problem.objective.value(), 3)\n",
    "pmp_mean = round(pmedian_from_gdf.mean_dist, 3)\n",
    "print(\n",
    "    f\"A total minimized weighted distance of {pmp_obj} units is \"\n",
    "    f\"observed, with a mean distance of {pmp_mean} per individual client.\"\n",
    ")"
   ]
  },
  {
   "cell_type": "markdown",
   "metadata": {},
   "source": [
    "However, in many real world applications there may already be existing facility locations with the goal being to add one or more new facilities. Here we will define facilites $y_0$ and $y_1$ as already existing (they must be present in the model solution). This will lead to a sub-optimal solution.\n",
    "\n",
    "***Important:*** The facilities in `\"predefined_loc\"` are a binary array where `1` means the associated location must appear in the solution."
   ]
  },
  {
   "cell_type": "code",
   "execution_count": null,
   "metadata": {
    "ExecuteTime": {
     "end_time": "2023-01-10T18:24:12.622022Z",
     "start_time": "2023-01-10T18:24:12.608789Z"
    }
   },
   "outputs": [],
   "source": [
    "facility_points[\"predefined_loc\"] = 0\n",
    "facility_points.loc[(0, 1), \"predefined_loc\"] = 1\n",
    "facilities_snapped[\"predefined_loc\"] = facility_points[\"predefined_loc\"]\n",
    "facility_points"
   ]
  },
  {
   "cell_type": "code",
   "execution_count": null,
   "metadata": {
    "ExecuteTime": {
     "end_time": "2023-01-10T18:24:12.658551Z",
     "start_time": "2023-01-10T18:24:12.624417Z"
    }
   },
   "outputs": [],
   "source": [
    "pmedian_from_gdf_pre = PMedian.from_geodataframe(\n",
    "    clients_snapped,\n",
    "    facilities_snapped,\n",
    "    \"geometry\",\n",
    "    \"geometry\",\n",
    "    \"weights\",\n",
    "    p_facilities=P_FACILITIES,\n",
    "    predefined_facility_col=\"predefined_loc\",\n",
    "    distance_metric=distance_metric,\n",
    "    name=f\"p-median-{distance_metric}-distance-predefined\"\n",
    ")"
   ]
  },
  {
   "cell_type": "code",
   "execution_count": null,
   "metadata": {
    "ExecuteTime": {
     "end_time": "2023-01-10T18:24:12.759951Z",
     "start_time": "2023-01-10T18:24:12.660971Z"
    }
   },
   "outputs": [],
   "source": [
    "pmedian_from_gdf_pre = pmedian_from_gdf_pre.solve(solver)\n",
    "pmp_obj = round(pmedian_from_gdf_pre.problem.objective.value(), 3)\n",
    "pmp_mean = round(pmedian_from_gdf_pre.mean_dist, 3)\n",
    "print(\n",
    "    f\"A total minimized weighted distance of {pmp_obj} units is \"\n",
    "    f\"observed, with a mean distance of {pmp_mean} per individual client.\"\n",
    ")"
   ]
  },
  {
   "cell_type": "markdown",
   "metadata": {},
   "source": [
    "## Plotting the results\n",
    "\n",
    "The two cells below describe the plotting of the results. For each method from the `PMedian` class (`.from_cost_matrix()`, `.from_geodataframe()`) there is a plot displaying the facility site that was selected with a star colored and the points covered with the same color."
   ]
  },
  {
   "cell_type": "code",
   "execution_count": null,
   "metadata": {
    "ExecuteTime": {
     "end_time": "2023-01-10T18:24:12.769072Z",
     "start_time": "2023-01-10T18:24:12.762899Z"
    }
   },
   "outputs": [],
   "source": [
    "dv_colors_arr = [\n",
    "    \"darkcyan\",\n",
    "    \"mediumseagreen\",\n",
    "    \"saddlebrown\",\n",
    "    \"darkslategray\",\n",
    "    \"lightskyblue\",\n",
    "    \"thistle\",\n",
    "    \"lavender\",\n",
    "    \"darkgoldenrod\",\n",
    "    \"peachpuff\",\n",
    "    \"coral\",\n",
    "    \"mediumvioletred\",\n",
    "    \"blueviolet\",\n",
    "    \"fuchsia\",\n",
    "    \"cyan\",\n",
    "    \"limegreen\",\n",
    "    \"mediumorchid\",\n",
    "]\n",
    "dv_colors = {f\"y{i}\": dv_colors_arr[i] for i in range(len(dv_colors_arr))}\n",
    "dv_colors"
   ]
  },
  {
   "cell_type": "code",
   "execution_count": null,
   "metadata": {
    "ExecuteTime": {
     "end_time": "2023-01-10T18:24:12.787886Z",
     "start_time": "2023-01-10T18:24:12.775894Z"
    }
   },
   "outputs": [],
   "source": [
    "def plot_results(model, p, facs, clis=None, ax=None):\n",
    "    \"\"\"Visualize optimal solution sets and context.\"\"\"\n",
    "    if not ax:\n",
    "        multi_plot = False\n",
    "        fig, ax = plt.subplots(figsize=(6, 6))\n",
    "        markersize, markersize_factor = 4, 4\n",
    "    else:\n",
    "        ax.axis(\"off\")\n",
    "        multi_plot = True\n",
    "        markersize, markersize_factor = 2, 2\n",
    "    ax.set_title(model.name, fontsize=15)\n",
    "\n",
    "    # extract facility-client relationships for plotting (except for p-dispersion)\n",
    "    plot_clis = isinstance(clis, geopandas.GeoDataFrame)\n",
    "    if plot_clis:\n",
    "        cli_points = {}\n",
    "    fac_sites = {}\n",
    "    for i, dv in enumerate(model.fac_vars):\n",
    "        if dv.varValue:\n",
    "            dv, predef = facs.loc[i, [\"dv\", \"predefined_loc\"]]\n",
    "            fac_sites[dv] = [i, predef]\n",
    "            if plot_clis:\n",
    "                geom = clis.iloc[model.fac2cli[i]][\"geometry\"]\n",
    "                cli_points[dv] = geom\n",
    "    \n",
    "    # study area and legend entries initialization\n",
    "    streets.plot(ax=ax, alpha=1, color=\"black\", zorder=1)\n",
    "    legend_elements = [mlines.Line2D([], [], color=\"black\", label=\"streets\")]\n",
    "    \n",
    "    if plot_clis:\n",
    "        # any clients that not asscociated with a facility\n",
    "        if model.name.startswith(\"MCLP\"):\n",
    "            c = \"k\"\n",
    "            if model.n_cli_uncov:\n",
    "                idx = [i for i, v in enumerate(model.cli2fac) if len(v) == 0]\n",
    "                pnt_kws = dict(ax=ax, fc=c, ec=c, marker=\"s\", markersize=7, zorder=2)\n",
    "                clis.iloc[idx].plot(**pnt_kws)\n",
    "            _label = f\"Demand sites not covered ($n$={model.n_cli_uncov})\"\n",
    "            _mkws = dict(marker=\"s\", markerfacecolor=c, markeredgecolor=c, linewidth=0)\n",
    "            legend_elements.append(mlines.Line2D([], [], ms=3, label=_label, **_mkws))\n",
    "\n",
    "    # all candidate facilities\n",
    "    facs.plot(ax=ax, fc=\"brown\", marker=\"*\", markersize=80, zorder=8)\n",
    "    _label = f\"Facility sites ($n$={len(model.fac_vars)})\"\n",
    "    _mkws = dict(marker=\"*\", markerfacecolor=\"brown\", markeredgecolor=\"brown\")\n",
    "    legend_elements.append(mlines.Line2D([], [], ms=7, lw=0, label=_label, **_mkws))\n",
    "    \n",
    "    # facility-(client) symbology and legend entries\n",
    "    zorder = 4\n",
    "    for fname, (fac, predef) in fac_sites.items():\n",
    "        cset = dv_colors[fname]\n",
    "        if plot_clis:\n",
    "            # clients\n",
    "            geoms = cli_points[fname]\n",
    "            gdf = geopandas.GeoDataFrame(geoms)\n",
    "            gdf.plot(ax=ax, zorder=zorder, ec=\"k\", fc=cset, markersize=100 * markersize)\n",
    "            _label = f\"Demand sites covered by {fname}\"\n",
    "            _mkws = dict(markerfacecolor=cset, markeredgecolor=\"k\", ms=markersize + 7)\n",
    "            legend_elements.append(\n",
    "                mlines.Line2D([], [], marker=\"o\", lw=0, label=_label, **_mkws)\n",
    "            )\n",
    "        # facilities\n",
    "        ec = \"k\"\n",
    "        lw = 2\n",
    "        predef_label = \"predefined\"\n",
    "        if model.name.endswith(predef_label) and predef:\n",
    "            ec = \"r\"\n",
    "            lw = 3\n",
    "            fname += f\" ({predef_label})\"\n",
    "        facs.iloc[[fac]].plot(\n",
    "            ax=ax, marker=\"*\", markersize=1000, zorder=9, fc=cset, ec=ec, lw=lw\n",
    "        )\n",
    "        _mkws = dict(markerfacecolor=cset, markeredgecolor=ec, markeredgewidth=lw)\n",
    "        legend_elements.append(\n",
    "            mlines.Line2D([], [], marker=\"*\", ms=20, lw=0, label=fname, **_mkws)\n",
    "        )\n",
    "        # increment zorder up and markersize down for stacked client symbology\n",
    "        zorder += 1\n",
    "        if plot_clis:\n",
    "            markersize -= markersize_factor / p\n",
    "    \n",
    "    if not multi_plot:\n",
    "        # legend\n",
    "        kws = dict(loc=\"upper left\", bbox_to_anchor=(1.05, 0.7))\n",
    "        plt.legend(handles=legend_elements, **kws)"
   ]
  },
  {
   "cell_type": "markdown",
   "metadata": {},
   "source": [
    "### P-Median built from cost matrix (network distance)"
   ]
  },
  {
   "cell_type": "code",
   "execution_count": null,
   "metadata": {
    "ExecuteTime": {
     "end_time": "2023-01-10T18:24:13.402325Z",
     "start_time": "2023-01-10T18:24:12.790398Z"
    }
   },
   "outputs": [],
   "source": [
    "plot_results(pmedian_from_cm, P_FACILITIES, facility_points, clis=client_points)"
   ]
  },
  {
   "cell_type": "markdown",
   "metadata": {},
   "source": [
    "### P-median built from geodataframes (euclidean distance)"
   ]
  },
  {
   "cell_type": "code",
   "execution_count": null,
   "metadata": {
    "ExecuteTime": {
     "end_time": "2023-01-10T18:24:14.002179Z",
     "start_time": "2023-01-10T18:24:13.405328Z"
    }
   },
   "outputs": [],
   "source": [
    "plot_results(pmedian_from_gdf, P_FACILITIES, facility_points, clis=client_points)"
   ]
  },
  {
   "cell_type": "markdown",
   "metadata": {},
   "source": [
    "You may notice that the model results are similar, yet different. This is expected as the distances between facility and demand points are calculated with different metrics (network vs. euclidean distance).\n",
    "\n",
    "### P-median with preselected facilities (euclidean distance)\n",
    "\n",
    "Finally, let's visualize the results of the $p$-median problem when stipulating that facilities $y_0$ and $y_1$ must be included in the final selection."
   ]
  },
  {
   "cell_type": "code",
   "execution_count": null,
   "metadata": {
    "ExecuteTime": {
     "end_time": "2023-01-10T18:24:14.649787Z",
     "start_time": "2023-01-10T18:24:14.004867Z"
    }
   },
   "outputs": [],
   "source": [
    "plot_results(pmedian_from_gdf_pre, P_FACILITIES, facility_points, clis=client_points)"
   ]
  },
  {
   "cell_type": "markdown",
   "metadata": {},
   "source": [
    "Here, the differences is explained by the preselected facilities $y_0$ and $y_1$. So, the $p$-median model chooses the facility $y_4$ to minimize the total weighted cost to serve all clients.\n",
    "\n",
    "-----------------------------------\n",
    "\n",
    "## Comparing solution from varied metrics"
   ]
  },
  {
   "cell_type": "code",
   "execution_count": null,
   "metadata": {
    "ExecuteTime": {
     "end_time": "2023-01-10T18:24:16.134680Z",
     "start_time": "2023-01-10T18:24:14.651962Z"
    }
   },
   "outputs": [],
   "source": [
    "fig, axarr = plt.subplots(1, 3, figsize=(20, 10))\n",
    "fig.subplots_adjust(wspace=-0.01)\n",
    "for i, m in enumerate([pmedian_from_cm, pmedian_from_gdf, pmedian_from_gdf_pre]):\n",
    "    plot_results(m, P_FACILITIES, facility_points, clis=client_points, ax=axarr[i])"
   ]
  },
  {
   "cell_type": "markdown",
   "metadata": {},
   "source": [
    "## Capacitated p-median problem"
   ]
  },
  {
   "cell_type": "markdown",
   "metadata": {},
   "source": [
    "Based on the classic p-median problem, we further consider the location allocation problem with the facility's capacity, and the amount of demand at the demand point. Therefore, we add new functions to `p-median` function of `spopt`, to solve this type of problem.   \n",
    "\n",
    "**Capacitated P-Median can be written as:**\n",
    "\n",
    "$\\begin{array} \\displaystyle \\textbf{Minimize} & \\displaystyle \\sum_{i \\in I}\\sum_{j \\in J}{a_i d_{ij} X_{ij}} &&& (1) \\\\\n",
    "\\displaystyle \\textbf{Subject to:} & \\displaystyle \\sum_{j \\in J}{X_{ij} = 1} & \\forall i \\in I && (2) \\\\\n",
    "            & \\displaystyle \\sum_{j \\in J}{Y_{j} = p} &&& (3) \\\\\n",
    "            & \\displaystyle \\sum_{i \\in I}{a_i X_{ij} \\leq {c_j Y_{j}}}& \\forall j \\in J && (4) \\\\\n",
    "            & X_{ij} \\leq Y_{j} & \\forall i \\in I & \\forall j \\in J & (5) \\\\\n",
    "            & X_{ij} \\in \\{0,1\\} & \\forall i \\in I & \\forall j \\in J & (6) \\\\\n",
    "            & Y_{j} \\in \\{0,1\\} & \\forall j \\in J && (7) \\\\ \\end{array}$\n",
    "\n",
    "$\\begin{array} \\displaystyle \\textbf{Where:}\\\\ & & \\displaystyle i & \\small = & \\textrm{index referencing nodes of the network as demand} \\\\\n",
    "& & j & \\small = & \\textrm{index referencing nodes of the network as potential facility sites} \\\\\n",
    "& & d_{ij} & \\small = & \\textrm{shortest distance or travel time between nodes } i \\textrm{ and } j \\\\\n",
    "& & p & \\small = & \\textrm{number of facilities to be located} \\\\\n",
    "& & a_i & \\small = & \\textrm{service load or population demand at } i \\\\\n",
    "& & c_j & \\small = & \\textrm{capacity of facility} j \\\\\n",
    "& & X_{ij} & \\small = & \\begin{cases}\n",
    "              1, \\textrm{if demand } i \\textrm{ is assigned to facility } j \\\\\n",
    "              0, \\textrm{otherwise}\n",
    "           \\end{cases} \\\\\n",
    "& & Y_{j} & \\small = & \\begin{cases}\n",
    "              1, \\textrm{if node } j \\textrm{ has been selected for a facility} \\\\\n",
    "              0, \\textrm{otherwise} \\\\\n",
    "           \\end{cases} \\\\ \n",
    "\\end{array}$\n",
    "\n",
    "_The formulation above is adapted from Church and Murray (2009)_"
   ]
  },
  {
   "cell_type": "markdown",
   "metadata": {},
   "source": [
    "In the previous p-median problem, we have the demand value of each client point, which is the 'weight'. And in that condition, we acutally assume that the capacity of each facility is infinite. Now we can make this model more realisitic by considering the capacity.   \n",
    "\n",
    "Again, we would take the p-median case with network distance as the example, to introduce how to achieve the capacity constraint by using the `facility_capacities` function."
   ]
  },
  {
   "cell_type": "markdown",
   "metadata": {},
   "source": [
    "Firstly, we need to create the facility's capacity, by assigning some random integers using `numpy` to simulate these values. We will simulate capacity in a range from a minimum of 60 and a maximum of 120."
   ]
  },
  {
   "cell_type": "code",
   "execution_count": null,
   "metadata": {},
   "outputs": [],
   "source": [
    "numpy.random.seed(1)\n",
    "cj = numpy.random.randint(60, 120, FACILITY_COUNT)\n",
    "cj"
   ]
  },
  {
   "cell_type": "code",
   "execution_count": null,
   "metadata": {},
   "outputs": [],
   "source": [
    "facility_points[\"capacity\"] = cj\n",
    "facility_points[\"capacity\"].sum()"
   ]
  },
  {
   "cell_type": "markdown",
   "metadata": {},
   "source": [
    "The sum of the facility capacity is 756, which is more than the total amount of demand, 579. It means the 10 facilities can accommodate all the demand.   \n",
    "\n",
    "It also means we need to increase the number of candidate facilities in the final optimal solution, because the capacity is limited."
   ]
  },
  {
   "cell_type": "code",
   "execution_count": null,
   "metadata": {},
   "outputs": [],
   "source": [
    "pmedian_capacity_from_cm = PMedian.from_cost_matrix(\n",
    "    cost_matrix,\n",
    "    ai,\n",
    "    p_facilities = 8,\n",
    "    facility_capacities=cj,\n",
    "    name=\"capacitated-p-median-network-distance\"\n",
    ")"
   ]
  },
  {
   "cell_type": "code",
   "execution_count": null,
   "metadata": {},
   "outputs": [],
   "source": [
    "pmedian_capacity_from_cm = pmedian_capacity_from_cm.solve(solver)\n",
    "pmedian_capacity_from_cm"
   ]
  },
  {
   "cell_type": "markdown",
   "metadata": {},
   "source": [
    "How many facilities are allocated? And how many clients will they serve?"
   ]
  },
  {
   "cell_type": "code",
   "execution_count": null,
   "metadata": {},
   "outputs": [],
   "source": [
    "for fac, cli in enumerate(pmedian_capacity_from_cm.fac2cli):\n",
    "    if len(cli) > 0:\n",
    "        print(f\"facility {fac} serving {len(cli)} clients\")"
   ]
  },
  {
   "cell_type": "markdown",
   "metadata": {},
   "source": [
    "### Capacitated p-median problem with preselected facilities"
   ]
  },
  {
   "cell_type": "markdown",
   "metadata": {},
   "source": [
    "In many real world applications there may already be existing facility locations with the goal being to add one or more new facilities. Here we will define facilites $y_0$ and $y_1$ as already existing (they must be present in the model solution). This will lead to a sub-optimal solution. \n",
    "\n",
    "In the context of the capacitated p-median problem in `spopt`, it's also possible to consider facilities that have already been chosen beforehand. \n",
    "\n",
    "***Important:*** When using the `from_cost_matrix` method to solve capacitated p-median problem with preselected facilities, it is necessary for the user to supply a NumPy array as the `predefined_facilities_arr` parameter. This parameter represents the array of predefined facilities that are required to be included in the solution."
   ]
  },
  {
   "cell_type": "code",
   "execution_count": null,
   "metadata": {},
   "outputs": [],
   "source": [
    "predefine = numpy.array([0,1])\n",
    "pmedian_capacity_predefined_from_cm = PMedian.from_cost_matrix(\n",
    "    cost_matrix,\n",
    "    ai,\n",
    "    p_facilities = 8,\n",
    "    facility_capacities=cj,\n",
    "    predefined_facilities_arr=predefine,\n",
    "    name=\"capacitated-p-median-predefined-facilities-network-distance\"\n",
    ")\n",
    "pmedian_capacity_predefined_from_cm = pmedian_capacity_predefined_from_cm.solve(solver)"
   ]
  },
  {
   "cell_type": "code",
   "execution_count": null,
   "metadata": {},
   "outputs": [],
   "source": [
    "for fac, cli in enumerate(pmedian_capacity_predefined_from_cm.fac2cli):\n",
    "    if len(cli) > 0:\n",
    "        print(f\"facility {fac} serving {len(cli)} clients\")"
   ]
  },
  {
   "cell_type": "markdown",
   "metadata": {},
   "source": [
    "From the result, in total 8 facilities are allocated, and $y_0$ and $y_1$ are two of them.   \n",
    "\n",
    "One more new function about preselected facilities, is that you can choose whether to fulfill its capacity. For example, the capacity of $y_0$ is 97, and you wish to assign 97 demand value to it. It sometimes happens when you need to meet specific facility requirements.   \n",
    "\n",
    "The function name is `fulfill_predefined_fac`. Here is the example of how to use it."
   ]
  },
  {
   "cell_type": "code",
   "execution_count": null,
   "metadata": {},
   "outputs": [],
   "source": [
    "pmedian_capacity_fulfill_predefined_from_cm = PMedian.from_cost_matrix(\n",
    "    cost_matrix,\n",
    "    ai,\n",
    "    p_facilities = 8,\n",
    "    facility_capacities=cj,\n",
    "    predefined_facilities_arr=predefine,\n",
    "    fulfill_predefined_fac=True,\n",
    "    name=\"capacitated-p-median-fulfill-predefined-facilities-network-distance\"\n",
    ")\n",
    "pmedian_capacity_fulfill_predefined_from_cm = pmedian_capacity_fulfill_predefined_from_cm.solve(solver)"
   ]
  },
  {
   "cell_type": "code",
   "execution_count": null,
   "metadata": {},
   "outputs": [],
   "source": [
    "for fac, cli in enumerate(pmedian_capacity_fulfill_predefined_from_cm.fac2cli):\n",
    "    if len(cli) > 0:\n",
    "        print(f\"facility {fac} serving {len(cli)} clients\")"
   ]
  },
  {
   "cell_type": "markdown",
   "metadata": {},
   "source": [
    "From the result, we can see that the number of clients they will serve is different. Because we set the constraint to fulfill the capacity of preselected facilities, we get the different solutions."
   ]
  },
  {
   "cell_type": "markdown",
   "metadata": {},
   "source": [
    "## References\n",
    "\n",
    "- [Hakimi, S. L. (1965). Optimum Distribution of Switching Centers in a Communication Network and Some Related Graph Theoretic Problems. Operations Research, 13(3), 462–475.](https://doi:10.1287/opre.13.3.462) \n",
    "\n",
    "- [Church, R. L., & Murray, A. T. (2009). Business site selection, location analysis, and GIS (pp. 209-233). Hoboken, NJ: John Wiley & Sons.](http://ndl.ethernet.edu.et/bitstream/123456789/22145/1/45.pdf)\n",
    "\n",
    "- [Church, R. L., & Murray, A. T. (2018). Location covering models: History, applications and advancements (1st edition 2018). Springer](https://www.springer.com/gb/book/9783319998459)"
   ]
  }
 ],
 "metadata": {
  "interpreter": {
   "hash": "bcb02d4a8797ff5ebd92be15b60e9039bcb224cc71066b4afaa532ffd1d19559"
  },
  "kernelspec": {
   "display_name": "Python [conda env:py311_spopt]",
   "language": "python",
   "name": "conda-env-py311_spopt-py"
  },
  "language_info": {
   "codemirror_mode": {
    "name": "ipython",
    "version": 3
   },
   "file_extension": ".py",
   "mimetype": "text/x-python",
   "name": "python",
   "nbconvert_exporter": "python",
   "pygments_lexer": "ipython3",
   "version": "3.8.3"
  }
 },
 "nbformat": 4,
 "nbformat_minor": 4
}
