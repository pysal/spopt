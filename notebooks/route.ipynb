{
 "cells": [
  {
   "cell_type": "markdown",
   "id": "f8ec5749-b4bd-4d44-82e3-3a96bda20d0c",
   "metadata": {},
   "source": [
    "# Solving Vehicle Routing Problems (VRPs) using the `spopt.Route` module\n",
    "*Authors:* [Dylan Skrah](https://github.com/fiendskrah), [Germano Barcelos](https://github.com/gegen07), [Levi J. Wolf](https://github.com/ljwolf)"
   ]
  },
  {
   "cell_type": "markdown",
   "id": "4740a7b3-3ae5-44eb-9c85-88231775e5f8",
   "metadata": {},
   "source": [
    "This notebook will demonstrate how to set up and solve vehicle routing problems using the `spopt.Route` module. This module wraps around the [`routingpy`](https://github.com/mthh/routingpy) library for routing services and the [PyVRP](https://github.com/PyVRP/PyVRP) for specific solve functions. "
   ]
  },
  {
   "cell_type": "markdown",
   "id": "8b9bb5a3-e8eb-4f01-bea0-23aee80b6bc1",
   "metadata": {},
   "source": [
    "## Setting up the OSRM backend service"
   ]
  },
  {
   "cell_type": "markdown",
   "id": "d97cd6d2-8904-4c4c-9740-a3308faa2653",
   "metadata": {},
   "source": [
    "### Docker container\n",
    "We suggest using the OSRM backend as a routing service. This module was developed with this backend considered as the default. Because `spopt.Route` invokes the routingpy library, other services supported by routingpy should function as expected, though minor changes to the codebase may be required. See the following table for which services have been confirmed functional."
   ]
  },
  {
   "cell_type": "markdown",
   "id": "7c83f485-b6e7-460c-958e-d03b9aaf7d13",
   "metadata": {},
   "source": [
    "| Router       | Required Keywords | API key? | Requires Backend? | confirmed functional | \n",
    "|--------------|----------|----------| ----------------  | ------------------- |\n",
    "| OSRM         | base-url | no | yes     | yes | \n",
    "| Valhalla | base-url, profile | no | yes | no | \n",
    "| HereMaps     |          | Yes      | | no |\n",
    "| Google       |          | Yes      | | no |\n",
    "| Graphhopper  |          | Yes      | | no |\n",
    "| Mapbox OSRM  |          | Yes      | | no |\n",
    "| OpenRouteService |      | Yes      | | no |\n",
    "| OpenTripPlanner | | | | N/A (`matrix` not implemented) | "
   ]
  },
  {
   "cell_type": "markdown",
   "id": "a2eeb5ba-fea8-4b8c-85b7-e3a28ed00ea0",
   "metadata": {},
   "source": [
    "OSRM exposes their backend for easy requests using a docker image. While this can be a little tedious to set up on your local machine, this allows the `route` module to quickly identify shortest routes between points of interest and solve VRP problems. Find the latest release of the docker image here: [osrm-backend github repository](https://github.com/Project-OSRM/osrm-backend)."
   ]
  },
  {
   "attachments": {},
   "cell_type": "markdown",
   "id": "195f8ea9-e5db-47d3-9962-55d24ca482ac",
   "metadata": {},
   "source": [
    "### Preliminary data pre-processing\n",
    "A required preliminary step is to obtain the 'raw' data for the area in which you are operating. This takes the form of `.pbf` files, which can be obtained from the [geofabrik](https://download.geofabrik.de/_) portal. In our case, we obtain the [Ireland and Northern Ireland](https://download.geofabrik.de/europe/ireland-and-northern-ireland.html) `.pbf` file. Once downloaded, the `.pbf` needs to be processed using a series of extraction, partitioning, and customization commands. This is easiest to do as a shell script. The version of this script for this example can be found in this [gist](https://gist.github.com/fiendskrah/f4d267ee7298ff9d0a9feb387b051b39). it looks like this:\n",
    "\n",
    "```bash\n",
    "docker run -t -v \"${PWD}:/data\" ghcr.io/project-osrm/osrm-backend osrm-extract -p /opt/car.lua /data/ireland-and-northern-ireland-latest.osm.pbf || echo \"osrm build failed\"\n",
    "docker run -t -v \"${PWD}:/data\" ghcr.io/project-osrm/osrm-backend osrm-partition /data/ireland-and-northern-ireland-latest.osrm || echo \"osrm-partition failed\"\n",
    "docker run -t -v \"${PWD}:/data\" ghcr.io/project-osrm/osrm-backend osrm-customize /data/ireland-and-northern-ireland-latest.osrm || echo \"osrm-customize failed\"\n",
    "echo \"osrm server can now be started\"\n",
    "```\n",
    "\n",
    "This script will create several additional files from the `.pbf` that you downloaded, which are required for identifying shortest routes and solving the VRP using real street network data."
   ]
  },
  {
   "attachments": {},
   "cell_type": "markdown",
   "id": "9e81dc36-747e-4069-9047-856013406e55",
   "metadata": {},
   "source": [
    "### Activate the backend service\n",
    "After the pre-processing steps are completed, the OSRM backend docker container can be activated. This container should be 'spun up' as a service, meaning it holds a port on your machine available to hear requests and send those requests to the OSRM servers to obtain routes, distances, and durations. The `spopt.Route` module will then take those data and solve the defined VRP. Once you have the docker image in your directory, start the service by running the following command in your terminal: \n",
    "\n",
    "```bash\n",
    "docker run -t -i -p 5000:5000 -v \"${PWD}:/data\" ghcr.io/project-osrm/osrm-backend osrm-routed --algorithm mld --max-table-size 9999999 /data/ireland-and-northern-ireland-latest.osrm\n",
    "```\n",
    "\n",
    "Let's breakdown this command. This part:\n",
    "\n",
    "```bash\n",
    "docker run -t -i -p 5000:5000 -v \"${PWD}:/data\" ghcr.io/project-osrm/osrm-backend osrm-routed\n",
    "```\n",
    "\n",
    "says we're connecting to the docker service on the 5000 port. We're porting into the data directory of the backend and starting the osrm-routed service. \n",
    "\n",
    "This part:\n",
    " \n",
    "```bash\n",
    "--algorithm mld --max-table-size 9999999 /data/ireland-and-northern-ireland-latest.osrm\n",
    "```\n",
    "\n",
    "says that we're going to use the MLD (Multi-Level Dijkstra) algorithm to identify the most optimal routes in our problem. the `--max-table-size 99999999` argument indicates we are increasing the rate limitations for problem size, which is quite low by default. Finally, `data/ireland-and-northern-ireland-latest.osrm` is where our processed data file is, which tells OSRM where we're trying to operate. \n",
    "\n",
    "After running this final command, the service is activated and listening for requests in your terminal. "
   ]
  },
  {
   "cell_type": "markdown",
   "id": "49934f22-8914-4dcb-88a1-eba090c28180",
   "metadata": {},
   "source": [
    "## Set up the Vehicle Routing Problem\n",
    "Our example VRP is a delivery application where all the pubs in Dublin, Ireland need to be supplied their allotment of Guinness barrels."
   ]
  },
  {
   "cell_type": "code",
   "execution_count": null,
   "id": "6c23477b-bb12-44c3-97b8-14a80c4cafee",
   "metadata": {},
   "outputs": [],
   "source": [
    "import geopandas as gpd\n",
    "import pandas, numpy, pyvrp, sys\n",
    "\n",
    "sys.path.insert(0, '/home/dylan/projects/gsoc2025/spopt/') # active development; may need to be edited for your local branch. delete after PR is merged.\n",
    "\n",
    "import spopt\n",
    "print(spopt.__file__)"
   ]
  },
  {
   "cell_type": "code",
   "execution_count": null,
   "id": "7692dbc6-9c14-4c7e-8129-be96b4dc2579",
   "metadata": {
    "scrolled": true
   },
   "outputs": [],
   "source": [
    "from spopt.route import engine, heuristic, utils"
   ]
  },
  {
   "cell_type": "code",
   "execution_count": null,
   "id": "32fce62a-b642-4749-9c84-7846ce08140f",
   "metadata": {},
   "outputs": [],
   "source": [
    "from spopt.route.heuristic import LastMile\n",
    "from pyvrp import stop"
   ]
  },
  {
   "cell_type": "markdown",
   "id": "fc7c65b9-4156-47d3-9316-6e3cb9072b70",
   "metadata": {},
   "source": [
    "### Trucks\n",
    "In the cell below, we define a DataFrame quantifying the available fleet of trucks. Each row represents a different truck type, identified by size (`namesize`) and fuel type (`namefuel`). The `capacity` column indicates how much the truck can carry. `fixed_cost` is the base cost of using the truck, regardless of how far it travels. `cost_per_meter` and `cost_per_minute` represent variable costs that depend on distance and travel time. The `n_truck` column tells us how many of each truck type are available. "
   ]
  },
  {
   "cell_type": "code",
   "execution_count": null,
   "id": "c5c9c91a-531e-40c2-ab4a-69ac992f17d8",
   "metadata": {},
   "outputs": [],
   "source": [
    "trucks = pandas.DataFrame(\n",
    "    [['big', 'lng',      2000,    280, .004,  .50, 5],\n",
    "     ['big', 'electric', 2000,    480, .002,  .50, 5],\n",
    "     ['med', 'lng',      800, 280*.66, .0001, .63, 10],\n",
    "     ['med', 'electric', 800, 480*.66, .004,  .50, 10],\n",
    "     ['smo', 'lng',      400, 280*0.4, .002,  .50, 20],\n",
    "     ['smo', 'electric', 400, 480*0.4, .0001, .63, 20],\n",
    "     ],\n",
    "     columns = [\n",
    "         'namesize', 'namefuel', 'capacity', \n",
    "         'fixed_cost', 'cost_per_meter', 'cost_per_minute', 'n_truck'\n",
    "         ]\n",
    ")"
   ]
  },
  {
   "attachments": {},
   "cell_type": "markdown",
   "id": "229e2291-a5c3-4c9b-9c19-31fe5e00d213",
   "metadata": {},
   "source": [
    "### Clients and depot(s)\n",
    "Our example application uses one central depot, but additional depots can be specified. This file contains pubs all across Dublin, stored in a GeoJSON file and read into a GeoDataFrame using GeoPandas. Each row in this table represents a location, either a pub (client) or the Guinness Storehouse (the depot, at index 0), with associated geographic coordinates and attributes relevant to the routing problem."
   ]
  },
  {
   "cell_type": "code",
   "execution_count": null,
   "id": "c6c2dc1f-ba3f-4f4b-8b19-c487c9e6bb21",
   "metadata": {},
   "outputs": [],
   "source": [
    "gdf = gpd.read_file('/home/dylan/projects/gsoc2025/spopt/notebooks/gsoc2025/data/dublinpubs.geojson')"
   ]
  },
  {
   "cell_type": "code",
   "execution_count": null,
   "id": "95a0eda5-6c6f-478e-9f8f-aacb67b3ecf1",
   "metadata": {},
   "outputs": [],
   "source": [
    "gdf.shape"
   ]
  },
  {
   "cell_type": "code",
   "execution_count": null,
   "id": "76f00660-473a-4ecd-a63d-dd53773635fd",
   "metadata": {},
   "outputs": [],
   "source": [
    "clients = gdf.iloc[1:,:].reset_index(drop=True)\n",
    "clients = clients.set_index(clients.osmid.astype(str))"
   ]
  },
  {
   "cell_type": "code",
   "execution_count": null,
   "id": "5174df2e-c3a1-44b1-aabd-a01adad6366c",
   "metadata": {},
   "outputs": [],
   "source": [
    "clients.head()"
   ]
  },
  {
   "cell_type": "markdown",
   "id": "910aab60-2078-4604-b937-752a75f82eb1",
   "metadata": {},
   "source": [
    "Clients have associated `demand` and `supply` values, which represent how many kegs needs to be delivered to or picked up from that site. The `geometry` column stores the location as a geographic point. Importantly, the gdf is indexed using the `osmid`."
   ]
  },
  {
   "cell_type": "code",
   "execution_count": null,
   "id": "067ecdf3-a2b2-43b5-9392-d2df43b071fc",
   "metadata": {},
   "outputs": [],
   "source": [
    "depot = gdf.iloc[0,:]"
   ]
  },
  {
   "cell_type": "markdown",
   "id": "59b1f506-08af-44e4-96f5-7b699daae353",
   "metadata": {},
   "source": [
    "We extract the first row as the depot, which serves as the start and end point for all vehicle routes. The remaining rows are identified as clients and indexed by their unique IDs from Openstreetmap."
   ]
  },
  {
   "cell_type": "markdown",
   "id": "763c8e80-de3f-4ba3-a674-5d330b8ee835",
   "metadata": {},
   "source": [
    "### Initialize LastMile object\n",
    "Now we have all the tools to set up and solve a Vehicle Routing Problem. First, we initalize the problem, setting the depot location and optionally setting the operating hours."
   ]
  },
  {
   "cell_type": "code",
   "execution_count": null,
   "id": "57d98434-9ba6-40a3-a713-bc78c55aea4d",
   "metadata": {},
   "outputs": [],
   "source": [
    "print('initializing model')\n",
    "m = LastMile(\n",
    "    depot_location=(depot.longitude.item(), depot.latitude.item()),\n",
    "    depot_open=pandas.Timestamp(\"2030-01-02 07:00:00\"),\n",
    "    depot_close=pandas.Timestamp(\"2030-01-02 20:00:00\"),\n",
    "    depot_name=depot['name'],\n",
    ")"
   ]
  },
  {
   "cell_type": "markdown",
   "id": "d80acdee-88be-4522-90c0-af72a7f42a03",
   "metadata": {},
   "source": [
    "Then, we add the clients to be serviced in the routing problem:"
   ]
  },
  {
   "cell_type": "code",
   "execution_count": null,
   "id": "b6c5ebd3-79f1-4d38-ad19-ffba7c819c77",
   "metadata": {},
   "outputs": [],
   "source": [
    "print(\"adding clients\")\n",
    "m.add_clients(\n",
    "    locations = clients.geometry, \n",
    "    delivery = clients.demand,\n",
    "    pickup = clients.supply,\n",
    "    time_windows=None,\n",
    "    service_times=(numpy.log(clients.demand)**2).astype(int)\n",
    ")"
   ]
  },
  {
   "cell_type": "markdown",
   "id": "1cf8cf26-8dec-456c-b138-0d5deca6a065",
   "metadata": {},
   "source": [
    "Lastly, we add the available delivery vehicles to the model object."
   ]
  },
  {
   "cell_type": "code",
   "execution_count": null,
   "id": "359f9638-e80b-4ffc-9f50-21f38ab4abe3",
   "metadata": {},
   "outputs": [],
   "source": [
    "print(\"adding trucks\")\n",
    "m.add_trucks_from_frame(\n",
    "    trucks, \n",
    ")"
   ]
  },
  {
   "cell_type": "markdown",
   "id": "e1465478-7384-4f37-a774-12f0128b15bb",
   "metadata": {},
   "source": [
    "## Solve the VRP\n",
    "\n",
    "All that's left to do is specify the routing engine and initalize the solve. We need to import the associated module from the `routingpy` library:"
   ]
  },
  {
   "cell_type": "code",
   "execution_count": null,
   "id": "1c36fbd9-8225-400c-ade5-85e0b4f27599",
   "metadata": {},
   "outputs": [],
   "source": [
    "from routingpy import OSRM"
   ]
  },
  {
   "cell_type": "markdown",
   "id": "7b074e89-a580-48b4-8451-4d3c958a8927",
   "metadata": {},
   "source": [
    "Finally, call the solve method, specifying the imported module with the `routing` keyword, and pass any required keywords for the engine using hte `routing_kws` dictionary. For OSRM, all that's required is the base_url where the docker container is listening for requests (described above)"
   ]
  },
  {
   "cell_type": "code",
   "execution_count": null,
   "id": "55e5bb50-75b7-4d4b-bd41-80ed8d2141b5",
   "metadata": {},
   "outputs": [],
   "source": [
    "m.solve(stop=pyvrp.stop.MaxRuntime(60), routing=OSRM, routing_kws={\"base_url\": \"http://localhost:5000\"})"
   ]
  },
  {
   "cell_type": "markdown",
   "id": "5f8cb6ee-7fb8-46c1-9e84-96ee357cd527",
   "metadata": {},
   "source": [
    "With the problem solved, we can now write outputs. The `write_result` method produces 3 files:\n",
    "\n",
    "- `routes.csv`: An overview of routes produced by the solution\n",
    "- `stops.csv`: Detailed information about each stop along each route\n",
    "- `map.html`: An html map displaying the solution."
   ]
  },
  {
   "cell_type": "code",
   "execution_count": null,
   "id": "6d5a7b2b-46b3-4740-bdee-64a93741cf43",
   "metadata": {},
   "outputs": [],
   "source": [
    "m.write_result(\"osrm\")"
   ]
  },
  {
   "cell_type": "code",
   "execution_count": null,
   "id": "bf578f28-5e3e-4674-80d7-46b2a14ae6d0",
   "metadata": {},
   "outputs": [],
   "source": [
    "routes = gpd.read_file('osrm_routes.csv')\n",
    "stops = gpd.read_file('osrm_stops.csv')"
   ]
  },
  {
   "cell_type": "code",
   "execution_count": null,
   "id": "d2920f84-1b8e-4b65-b2c7-94d2d31a432a",
   "metadata": {},
   "outputs": [],
   "source": [
    "routes"
   ]
  },
  {
   "cell_type": "code",
   "execution_count": null,
   "id": "75e1c171-abd9-402c-9d03-0aeb18cbe42f",
   "metadata": {},
   "outputs": [],
   "source": [
    "stops"
   ]
  },
  {
   "cell_type": "markdown",
   "id": "95611ade-0e71-4945-accb-a4deb16e34dd",
   "metadata": {},
   "source": [
    "Additionally, `spopt.Route` provides support for cases where no routing engine is passed to the solver. In this case, haversine distances are used in place of road data, and the resulting solutions should be interpreted cautiously. "
   ]
  },
  {
   "cell_type": "code",
   "execution_count": null,
   "id": "9cc2bc3a-54a6-4b3f-8c40-5cc9640c6895",
   "metadata": {},
   "outputs": [],
   "source": [
    "m.solve(stop=pyvrp.stop.MaxRuntime(60))"
   ]
  },
  {
   "cell_type": "code",
   "execution_count": null,
   "id": "5e98e559-6020-4d7e-80da-5f54b1fc64f4",
   "metadata": {},
   "outputs": [],
   "source": [
    "m.write_result(\"no-engine\")"
   ]
  }
 ],
 "metadata": {
  "kernelspec": {
   "display_name": "Python 3 (ipykernel)",
   "language": "python",
   "name": "python3"
  },
  "language_info": {
   "codemirror_mode": {
    "name": "ipython",
    "version": 3
   },
   "file_extension": ".py",
   "mimetype": "text/x-python",
   "name": "python",
   "nbconvert_exporter": "python",
   "pygments_lexer": "ipython3",
   "version": "3.12.11"
  }
 },
 "nbformat": 4,
 "nbformat_minor": 5
}
